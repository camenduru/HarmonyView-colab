{
  "cells": [
    {
      "cell_type": "markdown",
      "metadata": {
        "id": "view-in-github"
      },
      "source": [
        "[![Open In Colab](https://colab.research.google.com/assets/colab-badge.svg)](https://colab.research.google.com/github/camenduru/HarmonyView-colab/blob/main/HarmonyView_colab.ipynb)"
      ]
    },
    {
      "cell_type": "code",
      "execution_count": null,
      "metadata": {
        "id": "VjYy0F2gZIPR"
      },
      "outputs": [],
      "source": [
        "%cd /content\n",
        "!git clone -b dev https://github.com/camenduru/HarmonyView-hf\n",
        "%cd /content/HarmonyView-hf\n",
        "\n",
        "!apt -y install -qq aria2\n",
        "!aria2c --console-log-level=error -c -x 16 -s 16 -k 1M https://huggingface.co/camenduru/HarmonyView/resolve/main/ViT-L-14.pt -d /content/HarmonyView-hf/ckpt -o ViT-L-14.pt\n",
        "!aria2c --console-log-level=error -c -x 16 -s 16 -k 1M https://huggingface.co/camenduru/HarmonyView/resolve/main/sam_vit_h_4b8939.pth -d /content/HarmonyView-hf/ckpt -o sam_vit_h_4b8939.pth\n",
        "!aria2c --console-log-level=error -c -x 16 -s 16 -k 1M https://huggingface.co/camenduru/HarmonyView/resolve/main/syncdreamer-pretrain.ckpt -d /content/HarmonyView-hf/ckpt -o syncdreamer-pretrain.ckpt\n",
        "!aria2c --console-log-level=error -c -x 16 -s 16 -k 1M https://huggingface.co/camenduru/HarmonyView/resolve/main/camera-16.pkl -d /content/HarmonyView-hf/meta_info -o camera-16.pkl\n",
        "\n",
        "%cd /content/HarmonyView-hf/hf_demo/examples\n",
        "!wget https://huggingface.co/camenduru/HarmonyView/resolve/main/basket.png\n",
        "!wget https://huggingface.co/camenduru/HarmonyView/resolve/main/cat.png\n",
        "!wget https://huggingface.co/camenduru/HarmonyView/resolve/main/crab.png\n",
        "!wget https://huggingface.co/camenduru/HarmonyView/resolve/main/elephant.png\n",
        "!wget https://huggingface.co/camenduru/HarmonyView/resolve/main/flower.png\n",
        "!wget https://huggingface.co/camenduru/HarmonyView/resolve/main/forest.png\n",
        "!wget https://huggingface.co/camenduru/HarmonyView/resolve/main/monkey.png\n",
        "!wget https://huggingface.co/camenduru/HarmonyView/resolve/main/teapot.png\n",
        "\n",
        "!pip install -q git+https://github.com/openai/CLIP\n",
        "!pip install -q gradio==3.50.2 pytorch_lightning taming-transformers-rom1504 kornia webdataset omegaconf\n",
        "!pip install -q einops pymcubes carvekit-colab open3d trimesh nerfacc fire segment_anything\n",
        "\n",
        "%cd /content/HarmonyView-hf\n",
        "!python app.py"
      ]
    }
  ],
  "metadata": {
    "accelerator": "GPU",
    "colab": {
      "gpuType": "T4",
      "provenance": []
    },
    "kernelspec": {
      "display_name": "Python 3",
      "name": "python3"
    },
    "language_info": {
      "name": "python"
    }
  },
  "nbformat": 4,
  "nbformat_minor": 0
}
